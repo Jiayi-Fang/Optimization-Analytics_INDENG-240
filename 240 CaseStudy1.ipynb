{
 "cells": [
  {
   "cell_type": "markdown",
   "id": "8de3cad6",
   "metadata": {},
   "source": [
    "# INDENG 240 Case Study\n",
    "## Group Members\n",
    "- Yunqi Liang, SID: 3039669648\n",
    "- Xinyu Hou, SID: 3039669882\n",
    "- Jiayi Fang, SID: 3039670935\n",
    "- Xilin Tian, SID: 3039682596"
   ]
  },
  {
   "cell_type": "code",
   "execution_count": 1,
   "id": "b4162da1",
   "metadata": {},
   "outputs": [
    {
     "name": "stdout",
     "output_type": "stream",
     "text": [
      "Requirement already satisfied: gurobipy in /Users/ellasdigits/anaconda3/lib/python3.11/site-packages (10.0.2)\n",
      "Note: you may need to restart the kernel to use updated packages.\n"
     ]
    }
   ],
   "source": [
    "pip install gurobipy"
   ]
  },
  {
   "cell_type": "code",
   "execution_count": 2,
   "id": "9328a560",
   "metadata": {},
   "outputs": [],
   "source": [
    "import gurobipy as gp\n",
    "from gurobipy import GRB"
   ]
  },
  {
   "cell_type": "code",
   "execution_count": 3,
   "id": "ac962003",
   "metadata": {},
   "outputs": [
    {
     "name": "stdout",
     "output_type": "stream",
     "text": [
      "Restricted license - for non-production use only - expires 2024-10-28\n",
      "Gurobi Optimizer version 10.0.2 build v10.0.2rc0 (mac64[arm])\n",
      "\n",
      "CPU model: Apple M1\n",
      "Thread count: 8 physical cores, 8 logical processors, using up to 8 threads\n",
      "\n",
      "Optimize a model with 28 rows, 9 columns and 153 nonzeros\n",
      "Model fingerprint: 0x6e4c8b64\n",
      "Coefficient statistics:\n",
      "  Matrix range     [5e-02, 1e+02]\n",
      "  Objective range  [2e+01, 3e+02]\n",
      "  Bounds range     [0e+00, 0e+00]\n",
      "  RHS range        [2e+01, 2e+05]\n",
      "Presolve removed 11 rows and 0 columns\n",
      "Presolve time: 0.01s\n",
      "Presolved: 17 rows, 9 columns, 135 nonzeros\n",
      "\n",
      "Iteration    Objective       Primal Inf.    Dual Inf.      Time\n",
      "       0    7.9669841e+05   3.344941e+03   0.000000e+00      0s\n",
      "      13    6.1211338e+05   0.000000e+00   0.000000e+00      0s\n",
      "\n",
      "Solved in 13 iterations and 0.01 seconds (0.00 work units)\n",
      "Optimal objective  6.121133832e+05\n",
      "x1 750\n",
      "x2 1500\n",
      "x3 100\n",
      "x4 525.537\n",
      "x5 1657.5\n",
      "x6 825.403\n",
      "x7 25\n",
      "x8 1069.24\n",
      "x9 50\n",
      "obj:612113\n"
     ]
    }
   ],
   "source": [
    "m = gp.Model(\"CaseStudy1\")\n",
    "\n",
    "x1 = m.addVar(lb = 0.0, vtype = GRB.CONTINUOUS, name = \"x1\")\n",
    "x2 = m.addVar(lb = 0.0, vtype = GRB.CONTINUOUS, name = \"x2\")\n",
    "x3 = m.addVar(lb = 0.0, vtype = GRB.CONTINUOUS, name = \"x3\")\n",
    "x4 = m.addVar(lb = 0.0, vtype = GRB.CONTINUOUS, name = \"x4\")\n",
    "x5 = m.addVar(lb = 0.0, vtype = GRB.CONTINUOUS, name = \"x5\")\n",
    "x6 = m.addVar(lb = 0.0, vtype = GRB.CONTINUOUS, name = \"x6\")\n",
    "x7 = m.addVar(lb = 0.0, vtype = GRB.CONTINUOUS, name = \"x7\")\n",
    "x8 = m.addVar(lb = 0.0, vtype = GRB.CONTINUOUS, name = \"x8\")\n",
    "x9 = m.addVar(lb = 0.0, vtype = GRB.CONTINUOUS, name = \"x9\")\n",
    "\n",
    "m.setObjective(20*x1+30*x2+40*x3+50*x4+80*x5+125*x6+100*x7+250*x8+325*x9, GRB.MAXIMIZE)\n",
    "\n",
    "m.addConstr (x1>=750, \"c0\")\n",
    "m.addConstr (x2>=1500, \"c1\")\n",
    "m.addConstr (x3>=100, \"c2\")\n",
    "m.addConstr (x4>=400, \"c3\")\n",
    "m.addConstr (x5>=1500, \"c4\")\n",
    "m.addConstr (x6>=100, \"c5\")\n",
    "m.addConstr (x7>=25, \"c6\")\n",
    "m.addConstr (x8>=150, \"c7\")\n",
    "m.addConstr (x9>=50, \"c8\")\n",
    "\n",
    "m.addConstr (14*x1+24*x2+30*x3<=65000, \"c9\")\n",
    "m.addConstr (8*x1+15*x2+24*x3<=60000, \"c10\")\n",
    "m.addConstr (22*x4+40*x5+55*x6+25*x7+45*x8+60*x9<=175000, \"c11\")\n",
    "m.addConstr (1.5*x1+2*x2+2.5*x3<=96000, \"c12\")\n",
    "m.addConstr (x1+x2+x3+x4+x5+x6<=96000, \"c13\")\n",
    "m.addConstr (3*x4+4*x5+5*x6+3*x7+4*x8+5*x9<=19200, \"c14\")\n",
    "\n",
    "m.addConstr (0.2*(x1+x2+x3+x4+x5+x6+x7+x8+x9)<=(x1+x2+x3), \"c15\")\n",
    "m.addConstr ((x1+x2+x3)<=0.5*(x1+x2+x3+x4+x5+x6+x7+x8+x9), \"c16\")\n",
    "m.addConstr (0.4*(x1+x2+x3+x4+x5+x6+x7+x8+x9)<=(x4+x5+x6), \"c17\")\n",
    "m.addConstr ((x4+x5+x6)<=0.6*(x1+x2+x3+x4+x5+x6+x7+x8+x9), \"c18\")\n",
    "m.addConstr (0.1*(x1+x2+x3+x4+x5+x6+x7+x8+x9)<=(x7+x8+x9), \"c19\")\n",
    "m.addConstr ((x7+x8+x9)<=0.2*(x1+x2+x3+x4+x5+x6+x7+x8+x9), \"c20\")\n",
    "m.addConstr (0.2*(x1+x2+x3+x4+x5+x6+x7+x8+x9)<=(x1+x4+x7), \"c21\")\n",
    "m.addConstr ((x1+x4+x7)<=0.35*(x1+x2+x3+x4+x5+x6+x7+x8+x9), \"c22\")\n",
    "m.addConstr (0.4*(x1+x2+x3+x4+x5+x6+x7+x8+x9)<=(x2+x5+x8), \"c23\")\n",
    "m.addConstr ((x2+x5+x8)<=0.7*(x1+x2+x3+x4+x5+x6+x7+x8+x9), \"c24\")\n",
    "m.addConstr (0.05*(x1+x2+x3+x4+x5+x6+x7+x8+x9)<=(x3+x6+x9), \"c25\")\n",
    "m.addConstr ((x3+x6+x9)<=0.15*(x1+x2+x3+x4+x5+x6+x7+x8+x9), \"c26\")\n",
    "\n",
    "m.addConstr (15*x1+17*x2+19*x3+23*x4+28*x5+32*x6+76*x7+93*x8+110*x9<=230400, \"c27\")\n",
    "\n",
    "m.optimize()\n",
    "\n",
    "for v in m.getVars():\n",
    "    print('%s %g' % (v.VarName, v.X))\n",
    "\n",
    "print ('obj:%g' % m.ObjVal)"
   ]
  },
  {
   "cell_type": "code",
   "execution_count": 4,
   "id": "accea26b",
   "metadata": {},
   "outputs": [
    {
     "name": "stdout",
     "output_type": "stream",
     "text": [
      "\n",
      "Variable Sensitivity Analysis:\n",
      "Name\tReduced Cost\tMin Obj Coef\tMax Obj Coef\n",
      "x1\t0.0\t\t-inf\t\t24.06\n",
      "x2\t0.0\t\t-inf\t\t42.05\n",
      "x3\t0.0\t\t-inf\t\t78.34\n",
      "x4\t0.0\t\t45.4\t\t61.67\n",
      "x5\t0.0\t\t72.03\t\t83.06\n",
      "x6\t0.0\t\t121.22\t\t171.26\n",
      "x7\t0.0\t\t-inf\t\t188.36\n",
      "x8\t0.0\t\t246.89\t\t270.17\n",
      "x9\t0.0\t\t-inf\t\t328.77\n",
      "\n",
      "Sensitivity Analysis:\n",
      "Name\t\tShadow Price\tSlack\tMin RHS\tMax RHS\n",
      "c0\t\t-4.06\t\t0.0\t438.77\t892.19\n",
      "c1\t\t-12.05\t\t0.0\t1187.61\t2145.83\n",
      "c2\t\t-38.34\t\t0.0\t-0.0\t616.67\n",
      "c3\t\t0.0\t\t-125.54\t-inf\t525.54\n",
      "c4\t\t0.0\t\t-157.5\t-inf\t1657.5\n",
      "c5\t\t0.0\t\t-725.4\t-inf\t825.4\n",
      "c6\t\t-88.36\t\t0.0\t-0.0\t151.28\n",
      "c7\t\t0.0\t\t-919.24\t-inf\t1069.24\n",
      "c8\t\t-3.77\t\t0.0\t-0.0\t778.39\n",
      "c9\t\t0.0\t\t15500.0\t49500.0\tinf\n",
      "c10\t\t0.0\t\t29100.0\t30900.0\tinf\n",
      "c11\t\t0.23\t\t0.0\t169646.44\t195939.58\n",
      "c12\t\t0.0\t\t91625.0\t4375.0\tinf\n",
      "c13\t\t0.0\t\t90641.56\t5358.44\tinf\n",
      "c14\t\t0.0\t\t2264.39\t16935.61\tinf\n",
      "c15\t\t0.0\t\t1049.46\t-1049.46\tinf\n",
      "c16\t\t0.0\t\t901.34\t-901.34\tinf\n",
      "c17\t\t0.0\t\t407.37\t-407.37\tinf\n",
      "c18\t\t0.0\t\t893.17\t-893.17\tinf\n",
      "c19\t\t0.0\t\t493.98\t-493.98\tinf\n",
      "c20\t\t0.0\t\t156.29\t-156.29\tinf\n",
      "c21\t\t12.79\t\t0.0\t-281.92\t114.49\n",
      "c22\t\t0.0\t\t975.4\t-975.4\tinf\n",
      "c23\t\t0.0\t\t1625.67\t-1625.67\tinf\n",
      "c24\t\t0.0\t\t325.13\t-325.13\tinf\n",
      "c25\t\t0.0\t\t650.27\t-650.27\tinf\n",
      "c26\t\t31.09\t\t0.0\t-331.81\t114.9\n",
      "c27\t\t2.6\t\t0.0\t200442.85\t239324.73\n"
     ]
    }
   ],
   "source": [
    "print('\\nVariable Sensitivity Analysis:')\n",
    "print('Name\\tReduced Cost\\tMin Obj Coef\\tMax Obj Coef')\n",
    "for v in m.getVars():\n",
    "    print(f\"{v.VarName}\\t{round(v.RC, 2)}\\t\\t{round(v.SAObjLow, 2)}\\t\\t{round(v.SAObjUp, 2)}\")\n",
    "\n",
    "\n",
    "print('\\nSensitivity Analysis:')\n",
    "print('Name\\t\\tShadow Price\\tSlack\\tMin RHS\\tMax RHS')\n",
    "for c in m.getConstrs():\n",
    "    print(f\"{c.ConstrName}\\t\\t{round(c.Pi, 2)}\\t\\t{round(c.Slack, 2)}\\t{round(c.SARHSLow, 2)}\\t{round(c.SARHSUp, 2)}\")\n"
   ]
  },
  {
   "cell_type": "markdown",
   "id": "bb77ae5f",
   "metadata": {},
   "source": [
    "# Report"
   ]
  },
  {
   "cell_type": "markdown",
   "id": "d0e57f73",
   "metadata": {},
   "source": [
    "#### Variables:\n",
    "    \n",
    "${X_1}$ be the number of desk for student size in economy line\n",
    "    \n",
    "${X_2}$ be the number of desk for standard size in economy line\n",
    "    \n",
    "${X_3}$ be the number of desk of executive size in economy line\n",
    "    \n",
    "${X_4}$ be the number of desk for student size in basic pine line\n",
    "    \n",
    "${X_5}$ be the number of desk for standard size in basic pine line\n",
    "    \n",
    "${X_6}$ be the number of desk of executive size in basic pine line\n",
    "    \n",
    "${X_7}$ be the number of desk for student size in hand-craft line\n",
    "    \n",
    "${X_8}$ be the number of desk for standard size in hand-craft line\n",
    "    \n",
    "${X_9}$ be the number of desk of executive size in hand-craft line\n",
    "    \n",
    "    "
   ]
  },
  {
   "cell_type": "markdown",
   "id": "20e5542b",
   "metadata": {},
   "source": [
    "#### Objective Function:\n",
    "\n",
    "Max$$ 20X_1 + 30X_2 + 40X_3 + 50X_4 + 80X_5 + 125X_6 + 100X_7 + 250X_8 + 325X_9$$"
   ]
  },
  {
   "cell_type": "markdown",
   "id": "07de043c",
   "metadata": {},
   "source": [
    "#### s.t.\n",
    "Outstanding Orders Constrain:\n",
    "\\begin{cases}\n",
    "X_1 \\geq 750 & c_0\\\\\n",
    "X_2 \\geq 1500 & c_1\\\\\n",
    "X_3 \\geq 100 & c_2\\\\\n",
    "X_4 \\geq 400 & c_3\\\\\n",
    "X_5 \\geq 1500 & c_4\\\\\n",
    "X_6 \\geq 100 & c_5\\\\\n",
    "X_7 \\geq 25 & c_6\\\\\n",
    "X_8 \\geq 150 & c_7\\\\\n",
    "X_9 \\geq 50 & c_8\\\\\n",
    "\\end{cases}\n",
    "Aluminum Constrain: $$14X_1 + 24X_2 + 30X_3 \\leq 65000..................c_9$$\n",
    "Practice board Constrain: $$8X_1 + 15X_2 + 24X_3 \\leq 60000 ...............c_{10}$$\n",
    "Pine sheets Constrain: $$22X_4 + 40X_5 + 55X_6 + 25X_7 + 45X_8 + 60X_9 \\leq 175000 ......c_{11}$$\n",
    "Production Line Constrain:\n",
    "\\begin{cases}\n",
    "1.5X_1 + 2X_2 + 2.5X_3 \\leq 96000 & c_{12}\\\\\n",
    "X_1 + X_2 + X_3 + X_4 + X_5 + X_6 \\leq 96000 & c_{13}\\\\\n",
    "3X_4 + 4X_5 + 5X_6 + 3X_7 + 4X_8 + 5X_9 \\leq 19200  & c_{14}\n",
    "\\end{cases}\n",
    "Sept. Order Constrain:\n",
    "\\begin{cases}\n",
    "\\sum_{i = 1}^{3}X_i \\leq 0.5\\sum_{i = 1}^{9}X_i & c_{15}\\\\\n",
    "\\sum_{i = 1}^{3}X_i \\geq 0.2\\sum_{i = 1}^{9}X_i & c_{16}\\\\\n",
    "\\sum_{i = 4}^{6}X_i \\geq 0.4\\sum_{i = 1}^{9}X_i & c_{17}\\\\\n",
    "\\sum_{i = 4}^{6}X_i \\leq 0.6\\sum_{i = 1}^{9}X_i & c_{18}\\\\\n",
    "\\sum_{i = 7}^{9}X_i \\geq 0.1\\sum_{i = 1}^{9}X_i & c_{19}\\\\\n",
    "\\sum_{i = 4}^{9}X_i \\leq 0.2\\sum_{i = 1}^{9}X_i & c_{20}\\\\\n",
    "X_1 + X_4 + X_7 \\leq 0.35\\sum_{i = 1}^{9}X_i & c_{21}\\\\\n",
    "X_1 + X_4 + X_7 \\geq 0.2\\sum_{i = 1}^{9}X_i & c_{22}\\\\\n",
    "X_2 + X_5 + X_8 \\leq 0.7\\sum_{i = 1}^{9}X_i & c_{23}\\\\\n",
    "X_2 + X_5 + X_8 \\geq 0.4\\sum_{i = 1}^{9}X_i & c_{24}\\\\\n",
    "X_3 + X_6 + X_9 \\leq 0.15\\sum_{i = 1}^{9}X_i & c_{25}\\\\\n",
    "X_3 + X_6 + X_9 \\geq 0.05\\sum_{i = 1}^{9}X_i & c_{26}\\\\\n",
    "\\end{cases}\n",
    "\n",
    "Labor Constrain: \n",
    "$$((0.15) * 2 + 10)X_1 + ((2 + 1) * 2 + 11)X_2 + ((2.5 + 1) * 2 + 12)X_3 + ((1 + 3) * 2 + 15)X_4 + ((1 + 4) * 2 + 18)X_5 + ((1 + 5) * 2 + 20)X_6 + (3 * 2 + 20 + 50)X_7 + (4 * 2 + 25 + 60)X_8 +  (5* 2 + 30 + 70)X_9 \\leq 230400 ...... c_{27}$$\n"
   ]
  },
  {
   "cell_type": "markdown",
   "id": "0f7869a6",
   "metadata": {},
   "source": [
    "## Optimal Solution"
   ]
  },
  {
   "cell_type": "markdown",
   "id": "755ad639",
   "metadata": {},
   "source": [
    "#### Result\n",
    "From the Output above, we can see that the optimal solution is producing 750 economy desks for student size, 1500 economy desks for standard size, 100 economy desks for executive size; 525.537 basic pine desks for student size, 1657.5 basic pine desks for standard size, 825.403 basic pine desks for executive size; 525.537 basic pine desks for student size, 1657.5 basic pine desks for standard size, 825.403 basic pine desks for executive size; 25 hand-craft desks for student size, 1069.24 hand-craft desks for standard size, 50 hand-craft desks for executive size. And the profit for this optimal solution is 612113."
   ]
  },
  {
   "attachments": {
    "Sheet%201.png": {
     "image/png": "[encoded data removed]"
    }
   },
   "cell_type": "markdown",
   "id": "9a745541",
   "metadata": {},
   "source": [
    "#### Graph of result\n",
    "![Sheet%201.png](attachment:Sheet%201.png)"
   ]
  },
  {
   "cell_type": "markdown",
   "id": "dd6e015d",
   "metadata": {},
   "source": [
    "#### Observations\n",
    "- The Basic Pine Line has the highest production numbers, especially for the Standard and Executive size desks. This implies its importance in our profit-making strategy.\n",
    "\n",
    "- While the Economy Line doesn't reach the production numbers of the Basic Pine Line, it's still essential, especially for the Standard size desks.\n",
    "\n",
    "- The Hand-Craft Line is more niche, focusing mainly on the Standard size desks.\n",
    "\n",
    "- All three lines produce the most table sizes in Standard sizes."
   ]
  },
  {
   "cell_type": "markdown",
   "id": "0a9fc7d5",
   "metadata": {},
   "source": [
    "#### Analysis\n",
    "- Both the Economy Line and Basic Pine Line have substantial production numbers, suggesting that these are the most profitable lines given our constraints. The Hand-Craft Line, although more artisanal, contributes less to the optimal production mix.\n",
    "- Rounding Considerations: Some desk numbers, especially for the Basic Pine Line, had to be rounded. In real-world settings, we can't produce a fraction of a desk. However, these fractional values provide insights into how close we are to producing one more unit of a particular product and might suggest that small changes could lead to slightly higher profits."
   ]
  },
  {
   "cell_type": "markdown",
   "id": "047c120d",
   "metadata": {},
   "source": [
    "## Sensitivity Analysis"
   ]
  },
  {
   "cell_type": "markdown",
   "id": "8db9af0f",
   "metadata": {},
   "source": [
    "From the above sensitivity analysis, we can see that all the decision variables are basic since $x_j \\neq 0$ and $r_j = 0$ for all j = 1, 2 ... 9. \n",
    "\n",
    "And Constraint $c_3$, $c_4$, $c_5$, $c_7$, $c_9$, $c_{10}$, $c_{12}$, $c_{13}$, $c_{14}$, $c_{15}$, $c_{16}$, $c_{17}$, $c_{18}$, $c_{19}$, $c_{20}$, $c_{22}$, $c_{23}$, $c_{24}$, $c_{25}$ are not binding since $\\sum_{j = 1}{n}a_{ij}x_j > b_i$, in other words $y_i$ = 0 by looking at the shadow price; Also, Constraint $c_0$, $c_1$, $c_2$, $c_6$, $c_8$, $c_{11}$, $c_{21}$, $c_{26}$ are binding since $\\sum_{j = 1}{n}a_{ij}x_j = b_i$, in other words $s_i$ = 0 by looking at the slack;"
   ]
  },
  {
   "cell_type": "markdown",
   "id": "a204c3c7",
   "metadata": {},
   "source": [
    "#### Shadow Price\n",
    "- Shadow Price reflects how much the objective function value would change if the right-hand side (RHS) of a constraint is increased by one unit, keeping all else constant.\n",
    "- Most of the constraints have a shadow price of 0, indicating that an increase in the right-hand side of these constraints won't have an impact on the objective function.\n",
    "- Constraints like c0, c1, c2, c6, c8, c11, c21, c26, and c27 have non-zero shadow prices, meaning they have an impact on the objective function. Among them, constraints c2, c6, and c26 have relatively high absolute values, making them potentially more influential."
   ]
  },
  {
   "cell_type": "markdown",
   "id": "14b64f8d",
   "metadata": {},
   "source": [
    "#### Slack\n",
    "- Slack measures the amount by which the left-hand side (LHS) of the constraint is away from the right-hand side (RHS) of the constraint.\n",
    "- Constraints like c0, c1, c2, c6, c8, c11, c21, c26, c27 have a slack of 0, indicating they are binding constraints or are being met exactly."
   ]
  },
  {
   "cell_type": "markdown",
   "id": "083a20b9",
   "metadata": {},
   "source": [
    "#### Min RHS and Max RHS\n",
    "- These two show the range within which the right-hand side (RHS) of a constraint can vary without changing the current solution's basic variables.\n",
    "- inf represents infinity, suggesting that the constraint's right-hand side can increase indefinitely without changing the optimal basis. On the other hand, -inf suggests that the constraint's right-hand side can decrease indefinitely.\n",
    "- Some constraints, like c9, c10, c11, and c12, have very large values, which suggest significant flexibility in those constraints."
   ]
  }
 ],
 "metadata": {
  "kernelspec": {
   "display_name": "Python 3 (ipykernel)",
   "language": "python",
   "name": "python3"
  },
  "language_info": {
   "codemirror_mode": {
    "name": "ipython",
    "version": 3
   },
   "file_extension": ".py",
   "mimetype": "text/x-python",
   "name": "python",
   "nbconvert_exporter": "python",
   "pygments_lexer": "ipython3",
   "version": "3.9.15"
  }
 },
 "nbformat": 4,
 "nbformat_minor": 5
}
