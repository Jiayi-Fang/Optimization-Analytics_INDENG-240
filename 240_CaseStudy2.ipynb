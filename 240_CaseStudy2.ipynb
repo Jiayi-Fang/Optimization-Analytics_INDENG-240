{
 "cells": [
  {
   "cell_type": "code",
   "execution_count": 1,
   "id": "ebbdd4b2",
   "metadata": {},
   "outputs": [
    {
     "name": "stdout",
     "output_type": "stream",
     "text": [
      "Requirement already satisfied: gurobipy in /srv/conda/lib/python3.9/site-packages (10.0.3)\n",
      "Note: you may need to restart the kernel to use updated packages.\n"
     ]
    }
   ],
   "source": [
    "pip install gurobipy"
   ]
  },
  {
   "cell_type": "code",
   "execution_count": 2,
   "id": "f07c82d2",
   "metadata": {},
   "outputs": [],
   "source": [
    "import gurobipy as gp\n",
    "from gurobipy import GRB"
   ]
  },
  {
   "cell_type": "code",
   "execution_count": 3,
   "id": "9e6bb282",
   "metadata": {},
   "outputs": [
    {
     "name": "stdout",
     "output_type": "stream",
     "text": [
      "Restricted license - for non-production use only - expires 2024-10-28\n"
     ]
    }
   ],
   "source": [
    "m = gp.Model(\"CaseStudy2\")\n",
    "\n",
    "# Create Variables\n",
    "x1 = m.addVar(lb = 0.0, vtype = GRB.CONTINUOUS, name = \"x1\") # Grand Estates-The Trump-On the lake\n",
    "x2 = m.addVar(lb = 0.0, vtype = GRB.CONTINUOUS, name = \"x2\") # Grand Estates-The Trump-Not on the lake\n",
    "x3 = m.addVar(lb = 0.0, vtype = GRB.CONTINUOUS, name = \"x3\") # Grand Estates-The Vanderbilt-On the lake\n",
    "x4 = m.addVar(lb = 0.0, vtype = GRB.CONTINUOUS, name = \"x4\") # Grand Estates-The Vanderbilt-Not on the lake\n",
    "x5 = m.addVar(lb = 0.0, vtype = GRB.CONTINUOUS, name = \"x5\") # Grand Estates-The Hughes-On the lake\n",
    "x6 = m.addVar(lb = 0.0, vtype = GRB.CONTINUOUS, name = \"x6\") # Grand Estates-The Hughes-Not on the lake\n",
    "x7 = m.addVar(lb = 0.0, vtype = GRB.CONTINUOUS, name = \"x7\") # Grand Estates-The Jackson-On the lake\n",
    "x8 = m.addVar(lb = 0.0, vtype = GRB.CONTINUOUS, name = \"x8\") # Grand Estates-The Jackson-Not on the lake\n",
    "\n",
    "x9 = m.addVar(lb = 0.0, vtype = GRB.CONTINUOUS, name = \"x9\") # Glen Wood Collection-Grand Cypress-On Premium\n",
    "x10 = m.addVar(lb = 0.0, vtype = GRB.CONTINUOUS, name = \"x10\") # Glen Wood Collection-Grand Cypress-Standarded\n",
    "x11 = m.addVar(lb = 0.0, vtype = GRB.CONTINUOUS, name = \"x11\") # Glen Wood Collection-Lazy Oak\n",
    "x12 = m.addVar(lb = 0.0, vtype = GRB.CONTINUOUS, name = \"x12\") # Glen Wood Collection-Wind Row\n",
    "x13 = m.addVar(lb = 0.0, vtype = GRB.CONTINUOUS, name = \"x13\") # Glen Wood Collection-Orangewood\n",
    "\n",
    "x14 = m.addVar(lb = 0.0, vtype = GRB.CONTINUOUS, name = \"x14\") # Lakeview Patio Homes-Bayview-On Premium\n",
    "x15 = m.addVar(lb = 0.0, vtype = GRB.CONTINUOUS, name = \"x15\") # Lakeview Patio Homes-Bayview-Standarded\n",
    "x16 = m.addVar(lb = 0.0, vtype = GRB.CONTINUOUS, name = \"x16\") # Lakeview Patio Homes-Storeline\n",
    "x17 = m.addVar(lb = 0.0, vtype = GRB.CONTINUOUS, name = \"x17\") # Lakeview Patio Homes-Docks Edge\n",
    "x18 = m.addVar(lb = 0.0, vtype = GRB.CONTINUOUS, name = \"x18\") # Lakeview Patio Homes-Golden Pier\n",
    "\n",
    "x19 = m.addVar(lb = 0.0, vtype = GRB.CONTINUOUS, name = \"x19\") # Country Condominiums-Country Stream\n",
    "x20 = m.addVar(lb = 0.0, vtype = GRB.CONTINUOUS, name = \"x20\") # Country Condominiums-Weeping Willow\n",
    "x21 = m.addVar(lb = 0.0, vtype = GRB.CONTINUOUS, name = \"x21\") # Country Condominiums-Picket Fence"
   ]
  },
  {
   "cell_type": "markdown",
   "id": "e7651e84",
   "metadata": {},
   "source": [
    "## Selling price for exclusive home will be an additional 30% plus 50,000 more than the models not on the lake\n",
    "\n",
    "x1 700,000*1.3+50,000 = $960,000\n",
    "\n",
    "x2 $700,000\n",
    "\n",
    "x3 $934,000\n",
    "\n",
    "x4 $680,000\n",
    "\n",
    "x5 $895,000\n",
    "\n",
    "x6 $650,000\n",
    "\n",
    "x7 $817,000\n",
    "\n",
    "x8 $590,000"
   ]
  },
  {
   "cell_type": "markdown",
   "id": "7e8fa558",
   "metadata": {},
   "source": [
    "## Built on “premium” will have higher selling price\n",
    "\n",
    "x9 420,000+40,000 = $460,000\n",
    "\n",
    "x10 $420,000\n",
    "\n",
    "x11 $380,000\n",
    "\n",
    "x12 $320,000\n",
    "\n",
    "x13 $280,000\n",
    "\n",
    "\n",
    "x14 300,000+30,000 = $330,000\n",
    "\n",
    "x15 $300,000\n",
    "\n",
    "x16 $270,000\n",
    "\n",
    "x17 $240,000\n",
    "\n",
    "x18 $200,000"
   ]
  },
  {
   "cell_type": "markdown",
   "id": "3df6d8ff",
   "metadata": {},
   "source": [
    "x19 $220,000\n",
    "\n",
    "x20 $160,000\n",
    "\n",
    "x21 $140,000"
   ]
  },
  {
   "cell_type": "code",
   "execution_count": 4,
   "id": "d9de5295",
   "metadata": {},
   "outputs": [],
   "source": [
    "# Set Objective\n",
    "m.setObjective(0.22*(960000*x1+700000*x2+934000*x3+680000*x4+895000*x5+650000*x6+817000*x7+590000*x8)\n",
    "               +0.18*(460000*x9+420000*x10+380000*x11+320000*x12+280000*x13)\n",
    "               +0.2*(330000*x14+300000*x15+270000*x16+240000*x17+200000*x18)\n",
    "               +0.25*(220000*x19+160000*x20+140000*x21), GRB.MAXIMIZE)"
   ]
  },
  {
   "cell_type": "code",
   "execution_count": 5,
   "id": "22391dbf",
   "metadata": {},
   "outputs": [
    {
     "data": {
      "text/plain": [
       "<gurobi.Constr *Awaiting Model Update*>"
      ]
     },
     "execution_count": 5,
     "metadata": {},
     "output_type": "execute_result"
    }
   ],
   "source": [
    "# Set Constrains\n",
    "# Each of the Grand Estate series plans must have at least eight units on the lake\n",
    "m.addConstr (x1>=8, \"c0\")\n",
    "m.addConstr (x3>=8, \"c1\")\n",
    "m.addConstr (x5>=8, \"c2\")\n",
    "m.addConstr (x7>=8, \"c3\")\n",
    "\n",
    "# 50 half-acre lots on the lake are to be used exclusively by the Grand Estate Series homes\n",
    "m.addConstr (x1+x3+x5+x7==50, \"c4\")\n",
    "\n",
    "# No more than 25% of the total Grand Cypress models and 25% of the total Bayview models may be built on the premium lots\n",
    "m.addConstr (x9<=0.25*(x9+x10), \"c5\")\n",
    "m.addConstr (x14<=0.25*(x14+x15), \"c6\")\n",
    "\n",
    "#Each outside parking space will occupy 200 square feet of space\n",
    "m.addConstr ((2*(x1+x2+x11+x14+x15+x20+x21) + 3*x19 + (x3+x4+x5+x6+x9+x10+x12+x13+x16+x17))*200<=15*43560, \"c7\")"
   ]
  },
  {
   "cell_type": "code",
   "execution_count": 6,
   "id": "f0969179",
   "metadata": {},
   "outputs": [
    {
     "data": {
      "text/plain": [
       "<gurobi.Constr *Awaiting Model Update*>"
      ]
     },
     "execution_count": 6,
     "metadata": {},
     "output_type": "execute_result"
    }
   ],
   "source": [
    "# Variety\n",
    "m.addConstr((x18+x20+x21)<=0.25*(x1+x2+x3+x4+x5+x6+x7+x8+x9+x10+x11+x12+x13+x14+x15+x16+x17+x18+x19+x20+x21),\"c8\")\n",
    "m.addConstr((x18+x20+x21)>=0.15*(x1+x2+x3+x4+x5+x6+x7+x8+x9+x10+x11+x12+x13+x14+x15+x16+x17+x18+x19+x20+x21),\"c9\")\n",
    "\n",
    "m.addConstr((x7+x8+x12+x13+x16+x17+x19)>=0.25*(x1+x2+x3+x4+x5+x6+x7+x8+x9+x10+x11+x12+x13+x14+x15+x16+x17+x18+x19+x20+x21),\"c10\")\n",
    "m.addConstr((x7+x8+x12+x13+x16+x17+x19)<=0.4*(x1+x2+x3+x4+x5+x6+x7+x8+x9+x10+x11+x12+x13+x14+x15+x16+x17+x18+x19+x20+x21),\"c11\")\n",
    "\n",
    "m.addConstr((x3+x4+x5+x6+x9+x10+x11+x14+x15)>=0.25*(x1+x2+x3+x4+x5+x6+x7+x8+x9+x10+x11+x12+x13+x14+x15+x16+x17+x18+x19+x20+x21),\"c12\")\n",
    "m.addConstr((x3+x4+x5+x6+x9+x10+x11+x14+x15)<=0.4*(x1+x2+x3+x4+x5+x6+x7+x8+x9+x10+x11+x12+x13+x14+x15+x16+x17+x18+x19+x20+x21),\"c13\")\n",
    "\n",
    "m.addConstr((x1+x2)<=0.15*(x1+x2+x3+x4+x5+x6+x7+x8+x9+x10+x11+x12+x13+x14+x15+x16+x17+x18+x19+x20+x21),\"c14\")\n",
    "m.addConstr((x1+x2)>=0.05*(x1+x2+x3+x4+x5+x6+x7+x8+x9+x10+x11+x12+x13+x14+x15+x16+x17+x18+x19+x20+x21),\"c15\")\n",
    "\n",
    "# None of the four products is to make up more than 35% or less than 15% of the units built in the development\n",
    "m.addConstr((x1+x2+x3+x4+x5+x6+x7+x8)<=0.35*(x1+x2+x3+x4+x5+x6+x7+x8+x9+x10+x11+x12+x13+x14+x15+x16+x17+x18+x19+x20+x21),\"c16\")\n",
    "m.addConstr((x1+x2+x3+x4+x5+x6+x7+x8)>=0.15*(x1+x2+x3+x4+x5+x6+x7+x8+x9+x10+x11+x12+x13+x14+x15+x16+x17+x18+x19+x20+x21),\"c17\")\n",
    "\n",
    "m.addConstr((x9+x10+x11+x12+x13)<=0.35*(x1+x2+x3+x4+x5+x6+x7+x8+x9+x10+x11+x12+x13+x14+x15+x16+x17+x18+x19+x20+x21),\"c18\")\n",
    "m.addConstr((x9+x10+x11+x12+x13)>=0.15*(x1+x2+x3+x4+x5+x6+x7+x8+x9+x10+x11+x12+x13+x14+x15+x16+x17+x18+x19+x20+x21),\"c19\")\n",
    "\n",
    "m.addConstr((x14+x15+x16+x17+x18)<=0.35*(x1+x2+x3+x4+x5+x6+x7+x8+x9+x10+x11+x12+x13+x14+x15+x16+x17+x18+x19+x20+x21),\"c20\")\n",
    "m.addConstr((x14+x15+x16+x17+x18)>=0.15*(x1+x2+x3+x4+x5+x6+x7+x8+x9+x10+x11+x12+x13+x14+x15+x16+x17+x18+x19+x20+x21),\"c21\")\n",
    "\n",
    "m.addConstr((x19+x20+x21)>=0.15*(x1+x2+x3+x4+x5+x6+x7+x8+x9+x10+x11+x12+x13+x14+x15+x16+x17+x18+x19+x20+x21),\"c22\")\n",
    "m.addConstr((x19+x20+x21)<=0.35*(x1+x2+x3+x4+x5+x6+x7+x8+x9+x10+x11+x12+x13+x14+x15+x16+x17+x18+x19+x20+x21),\"c23\")\n",
    "\n",
    "# Each plan must occupy between 20% and 35% of the total units of that products\n",
    "m.addConstr((x1+x2)<=0.35*(x1+x2+x3+x4+x5+x6+x7+x8),\"c24\")\n",
    "m.addConstr((x1+x2)>=0.2*(x1+x2+x3+x4+x5+x6+x7+x8),\"c25\")\n",
    "m.addConstr((x3+x4)<=0.35*(x1+x2+x3+x4+x5+x6+x7+x8),\"c26\")\n",
    "m.addConstr((x3+x4)>=0.2*(x1+x2+x3+x4+x5+x6+x7+x8),\"c27\")\n",
    "m.addConstr((x5+x6)<=0.35*(x1+x2+x3+x4+x5+x6+x7+x8),\"c28\")\n",
    "m.addConstr((x5+x6)>=0.2*(x1+x2+x3+x4+x5+x6+x7+x8),\"c29\")\n",
    "m.addConstr((x7+x8)<=0.35*(x1+x2+x3+x4+x5+x6+x7+x8),\"c30\")\n",
    "m.addConstr((x7+x8)>=0.2*(x1+x2+x3+x4+x5+x6+x7+x8),\"c31\")\n",
    "\n",
    "m.addConstr((x9+x10)<=0.35*(x9+x10+x11+x12+x13),\"c32\")\n",
    "m.addConstr((x9+x10)>=0.2*(x9+x10+x11+x12+x13),\"c33\")\n",
    "m.addConstr(x11<=0.35*(x9+x10+x11+x12+x13),\"c34\")\n",
    "m.addConstr(x11>=0.2*(x9+x10+x11+x12+x13),\"c35\")\n",
    "m.addConstr(x12<=0.35*(x9+x10+x11+x12+x13),\"c36\")\n",
    "m.addConstr(x12>=0.2*(x9+x10+x11+x12+x13),\"c37\")\n",
    "m.addConstr(x13<=0.35*(x9+x10+x11+x12+x13),\"c38\")\n",
    "m.addConstr(x13>=0.2*(x9+x10+x11+x12+x13),\"c39\")\n",
    "\n",
    "m.addConstr((x14+x15)<=0.35*(x14+x15+x16+x17+x18),\"c40\")\n",
    "m.addConstr((x14+x15)>=0.2*(x14+x15+x16+x17+x18),\"c41\")\n",
    "m.addConstr(x16<=0.35*(x14+x15+x16+x17+x18),\"c42\")\n",
    "m.addConstr(x16>=0.2*(x14+x15+x16+x17+x18),\"c43\")\n",
    "m.addConstr(x17<=0.35*(x14+x15+x16+x17+x18),\"c44\")\n",
    "m.addConstr(x17>=0.2*(x14+x15+x16+x17+x18),\"c45\")\n",
    "m.addConstr(x18<=0.35*(x14+x15+x16+x17+x18),\"c46\")\n",
    "m.addConstr(x18>=0.2*(x14+x15+x16+x17+x18),\"c47\")\n",
    "\n",
    "m.addConstr(x19<=0.35*(x19+x20+x21),\"c48\")\n",
    "m.addConstr(x19>=0.2*(x19+x20+x21),\"c49\")\n",
    "m.addConstr(x20<=0.35*(x19+x20+x21),\"c50\")\n",
    "m.addConstr(x20>=0.2*(x19+x20+x21),\"c51\")\n",
    "m.addConstr(x21<=0.35*(x19+x20+x21),\"c52\")\n",
    "m.addConstr(x21>=0.2*(x19+x20+x21),\"c53\")\n",
    "\n",
    "# No more than 70% of the single-family homes (all homes except the Country Condominiums) may be two-story homes\n",
    "m.addConstr((x1+x2+x3+x4+x9+x10+x11+x12+x14+x15+x16)<=0.7*(x1+x2+x3+x4+x5+x6+x7+x8+x9+x10+x11+x12+x13+x14+x15+x16+x17+x18),\"c54\")\n",
    "\n",
    "# Affordable Housing\n",
    "m.addConstr((x18+x20+x21)>=0.15*(x1+x2+x3+x4+x5+x6+x7+x8+x9+x10+x11+x12+x13+x14+x15+x16+x17+x18+x19+x20+x21),\"c55\")"
   ]
  },
  {
   "cell_type": "code",
   "execution_count": 7,
   "id": "c070e0c6",
   "metadata": {},
   "outputs": [
    {
     "data": {
      "text/plain": [
       "<gurobi.Constr *Awaiting Model Update*>"
      ]
     },
     "execution_count": 7,
     "metadata": {},
     "output_type": "execute_result"
    }
   ],
   "source": [
    "# Lotsize + Outside Parking + Road/Greenbelts <= 300 Acres\n",
    "# Lotsize = Sum up half,1/4,1/6,1/10, and all others\n",
    "# Lotsize = Ground + Yard + Garage\n",
    "# Outside Parking = (2*(x1+x2+x11+x14+x15+x20+x21) + 3*x19 + (x3+x4+x5+x6+x9+x10+x12+x13+x16+x17))*200\n",
    "# Road/Greenbelts = (x1+x2+x3+x4+x5+x6+x7+x8+x9+x10+x11+x12+x13+x14+x15+x16+x17+x18+x19+x20+x21)*1000\n",
    "m.addConstr(0.5*43560*(x1+x2+x3+x4+x5+x6+x7+x8)\n",
    "            +0.25*43560*x9\n",
    "            +4950*x10\n",
    "            +0.1*43560*(x11+x12+x13+x15+x16+x17+x18)\n",
    "            +(43560/6)*x14\n",
    "            +1500*(x19+x20+x21)\n",
    "            +((2*(x1+x2+x11+x14+x15+x20+x21) + 3*x19 + (x3+x4+x5+x6+x9+x10+x12+x13+x16+x17))*200)\n",
    "            +((x1+x2+x3+x4+x5+x6+x7+x8+x9+x10+x11+x12+x13+x14+x15+x16+x17+x18+x19+x20+x21)*1000)<=(300*43560),\"c56\")"
   ]
  },
  {
   "cell_type": "code",
   "execution_count": 8,
   "id": "5a05dbcc",
   "metadata": {},
   "outputs": [
    {
     "name": "stdout",
     "output_type": "stream",
     "text": [
      "Gurobi Optimizer version 10.0.3 build v10.0.3rc0 (linux64)\n",
      "\n",
      "CPU model: Intel(R) Xeon(R) CPU @ 2.80GHz, instruction set [SSE2|AVX|AVX2|AVX512]\n",
      "Thread count: 4 physical cores, 8 logical processors, using up to 8 threads\n",
      "\n",
      "Optimize a model with 57 rows, 21 columns and 588 nonzeros\n",
      "Model fingerprint: 0x4f86c312\n",
      "Coefficient statistics:\n",
      "  Matrix range     [5e-02, 2e+04]\n",
      "  Objective range  [4e+04, 2e+05]\n",
      "  Bounds range     [0e+00, 0e+00]\n",
      "  RHS range        [8e+00, 1e+07]\n",
      "Presolve removed 5 rows and 0 columns\n",
      "Presolve time: 0.01s\n",
      "Presolved: 52 rows, 21 columns, 563 nonzeros\n",
      "\n",
      "Iteration    Objective       Primal Inf.    Dual Inf.      Time\n",
      "       0    1.4888752e+09   1.095723e+06   0.000000e+00      0s\n",
      "      25    1.2260933e+08   0.000000e+00   0.000000e+00      0s\n",
      "\n",
      "Solved in 25 iterations and 0.01 seconds (0.00 work units)\n",
      "Optimal objective  1.226093338e+08\n",
      "x1 26\n",
      "x2 66.62\n",
      "x3 8\n",
      "x4 58.1571\n",
      "x5 8\n",
      "x6 44.9257\n",
      "x7 8\n",
      "x8 44.9257\n",
      "x9 0\n",
      "x10 216.113\n",
      "x11 154.367\n",
      "x12 123.493\n",
      "x13 123.493\n",
      "x14 0\n",
      "x15 102.911\n",
      "x16 67.6273\n",
      "x17 64.687\n",
      "x18 58.8063\n",
      "x19 205.822\n",
      "x20 205.822\n",
      "x21 176.419\n",
      "obj:1.22609e+08\n"
     ]
    }
   ],
   "source": [
    "m.optimize()\n",
    "\n",
    "for v in m.getVars():\n",
    "    print('%s %g' % (v.VarName, v.X))\n",
    "\n",
    "print ('obj:%g' % m.ObjVal)"
   ]
  },
  {
   "cell_type": "code",
   "execution_count": null,
   "id": "59840a35",
   "metadata": {},
   "outputs": [],
   "source": []
  },
  {
   "cell_type": "code",
   "execution_count": null,
   "id": "1bdd8f3d",
   "metadata": {},
   "outputs": [],
   "source": []
  },
  {
   "cell_type": "code",
   "execution_count": null,
   "id": "1ceb19f8",
   "metadata": {},
   "outputs": [],
   "source": []
  },
  {
   "cell_type": "code",
   "execution_count": null,
   "id": "472d7991",
   "metadata": {},
   "outputs": [],
   "source": []
  }
 ],
 "metadata": {
  "kernelspec": {
   "display_name": "Python 3 (ipykernel)",
   "language": "python",
   "name": "python3"
  },
  "language_info": {
   "codemirror_mode": {
    "name": "ipython",
    "version": 3
   },
   "file_extension": ".py",
   "mimetype": "text/x-python",
   "name": "python",
   "nbconvert_exporter": "python",
   "pygments_lexer": "ipython3",
   "version": "3.9.15"
  }
 },
 "nbformat": 4,
 "nbformat_minor": 5
}
